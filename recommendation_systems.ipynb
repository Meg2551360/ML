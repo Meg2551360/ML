{
 "cells": [
  {
   "cell_type": "code",
   "execution_count": 1,
   "metadata": {},
   "outputs": [],
   "source": [
    "import pandas as pd\n",
    "import numpy as np\n",
    "\n",
    "import scipy.sparse as sp\n",
    "from sklearn.feature_extraction.text import TfidfVectorizer\n",
    "from sklearn.metrics.pairwise import cosine_distances\n",
    "from sklearn.model_selection import train_test_split\n",
    "from scipy.sparse.linalg import svds\n",
    "\n",
    "from sklearn.metrics import roc_auc_score"
   ]
  },
  {
   "cell_type": "code",
   "execution_count": 2,
   "metadata": {},
   "outputs": [
    {
     "data": {
      "text/html": [
       "<div>\n",
       "<style scoped>\n",
       "    .dataframe tbody tr th:only-of-type {\n",
       "        vertical-align: middle;\n",
       "    }\n",
       "\n",
       "    .dataframe tbody tr th {\n",
       "        vertical-align: top;\n",
       "    }\n",
       "\n",
       "    .dataframe thead th {\n",
       "        text-align: right;\n",
       "    }\n",
       "</style>\n",
       "<table border=\"1\" class=\"dataframe\">\n",
       "  <thead>\n",
       "    <tr style=\"text-align: right;\">\n",
       "      <th></th>\n",
       "      <th>userId</th>\n",
       "      <th>movieId</th>\n",
       "      <th>rating</th>\n",
       "      <th>timestamp</th>\n",
       "    </tr>\n",
       "  </thead>\n",
       "  <tbody>\n",
       "    <tr>\n",
       "      <th>0</th>\n",
       "      <td>54</td>\n",
       "      <td>2</td>\n",
       "      <td>3.0</td>\n",
       "      <td>974918176</td>\n",
       "    </tr>\n",
       "    <tr>\n",
       "      <th>1</th>\n",
       "      <td>54</td>\n",
       "      <td>32</td>\n",
       "      <td>5.0</td>\n",
       "      <td>974836809</td>\n",
       "    </tr>\n",
       "    <tr>\n",
       "      <th>2</th>\n",
       "      <td>54</td>\n",
       "      <td>47</td>\n",
       "      <td>4.0</td>\n",
       "      <td>974837760</td>\n",
       "    </tr>\n",
       "    <tr>\n",
       "      <th>3</th>\n",
       "      <td>54</td>\n",
       "      <td>50</td>\n",
       "      <td>4.0</td>\n",
       "      <td>974837760</td>\n",
       "    </tr>\n",
       "    <tr>\n",
       "      <th>4</th>\n",
       "      <td>54</td>\n",
       "      <td>223</td>\n",
       "      <td>5.0</td>\n",
       "      <td>974840217</td>\n",
       "    </tr>\n",
       "  </tbody>\n",
       "</table>\n",
       "</div>"
      ],
      "text/plain": [
       "   userId  movieId  rating  timestamp\n",
       "0      54        2     3.0  974918176\n",
       "1      54       32     5.0  974836809\n",
       "2      54       47     4.0  974837760\n",
       "3      54       50     4.0  974837760\n",
       "4      54      223     5.0  974840217"
      ]
     },
     "execution_count": 2,
     "metadata": {},
     "output_type": "execute_result"
    }
   ],
   "source": [
    "df = pd.read_csv(r\"D:\\Рабочий стол\\Мэг_питон\\ML\\База данных\\ratings_df_sample_2.csv\")\n",
    "df.head()"
   ]
  },
  {
   "cell_type": "code",
   "execution_count": 3,
   "metadata": {},
   "outputs": [
    {
     "name": "stdout",
     "output_type": "stream",
     "text": [
      "<class 'pandas.core.frame.DataFrame'>\n",
      "RangeIndex: 6040099 entries, 0 to 6040098\n",
      "Data columns (total 4 columns):\n",
      " #   Column     Dtype  \n",
      "---  ------     -----  \n",
      " 0   userId     int64  \n",
      " 1   movieId    int64  \n",
      " 2   rating     float64\n",
      " 3   timestamp  int64  \n",
      "dtypes: float64(1), int64(3)\n",
      "memory usage: 184.3 MB\n"
     ]
    }
   ],
   "source": [
    "df.info()"
   ]
  },
  {
   "cell_type": "code",
   "execution_count": 4,
   "metadata": {},
   "outputs": [
    {
     "data": {
      "text/plain": [
       "userId       0\n",
       "movieId      0\n",
       "rating       0\n",
       "timestamp    0\n",
       "dtype: int64"
      ]
     },
     "execution_count": 4,
     "metadata": {},
     "output_type": "execute_result"
    }
   ],
   "source": [
    "df.isna().sum()\n",
    "# пропусков не обнаружено"
   ]
  },
  {
   "cell_type": "code",
   "execution_count": 5,
   "metadata": {},
   "outputs": [
    {
     "data": {
      "text/html": [
       "<div>\n",
       "<style scoped>\n",
       "    .dataframe tbody tr th:only-of-type {\n",
       "        vertical-align: middle;\n",
       "    }\n",
       "\n",
       "    .dataframe tbody tr th {\n",
       "        vertical-align: top;\n",
       "    }\n",
       "\n",
       "    .dataframe thead th {\n",
       "        text-align: right;\n",
       "    }\n",
       "</style>\n",
       "<table border=\"1\" class=\"dataframe\">\n",
       "  <thead>\n",
       "    <tr style=\"text-align: right;\">\n",
       "      <th></th>\n",
       "      <th>userId</th>\n",
       "      <th>movieId</th>\n",
       "      <th>rating</th>\n",
       "      <th>timestamp</th>\n",
       "      <th>view_fact</th>\n",
       "    </tr>\n",
       "  </thead>\n",
       "  <tbody>\n",
       "    <tr>\n",
       "      <th>1364865</th>\n",
       "      <td>56687</td>\n",
       "      <td>48780</td>\n",
       "      <td>4.0</td>\n",
       "      <td>1232035816</td>\n",
       "      <td>1</td>\n",
       "    </tr>\n",
       "    <tr>\n",
       "      <th>3773537</th>\n",
       "      <td>107009</td>\n",
       "      <td>1278</td>\n",
       "      <td>3.0</td>\n",
       "      <td>975370373</td>\n",
       "      <td>1</td>\n",
       "    </tr>\n",
       "    <tr>\n",
       "      <th>2262777</th>\n",
       "      <td>94357</td>\n",
       "      <td>1408</td>\n",
       "      <td>4.5</td>\n",
       "      <td>1123936700</td>\n",
       "      <td>1</td>\n",
       "    </tr>\n",
       "    <tr>\n",
       "      <th>65056</th>\n",
       "      <td>2558</td>\n",
       "      <td>1219</td>\n",
       "      <td>4.0</td>\n",
       "      <td>1263841557</td>\n",
       "      <td>1</td>\n",
       "    </tr>\n",
       "    <tr>\n",
       "      <th>1597742</th>\n",
       "      <td>66825</td>\n",
       "      <td>2959</td>\n",
       "      <td>5.0</td>\n",
       "      <td>1107863583</td>\n",
       "      <td>1</td>\n",
       "    </tr>\n",
       "    <tr>\n",
       "      <th>2184754</th>\n",
       "      <td>91080</td>\n",
       "      <td>1405</td>\n",
       "      <td>3.5</td>\n",
       "      <td>1167162642</td>\n",
       "      <td>1</td>\n",
       "    </tr>\n",
       "    <tr>\n",
       "      <th>636472</th>\n",
       "      <td>25431</td>\n",
       "      <td>6807</td>\n",
       "      <td>5.0</td>\n",
       "      <td>1221011389</td>\n",
       "      <td>1</td>\n",
       "    </tr>\n",
       "  </tbody>\n",
       "</table>\n",
       "</div>"
      ],
      "text/plain": [
       "         userId  movieId  rating   timestamp  view_fact\n",
       "1364865   56687    48780     4.0  1232035816          1\n",
       "3773537  107009     1278     3.0   975370373          1\n",
       "2262777   94357     1408     4.5  1123936700          1\n",
       "65056      2558     1219     4.0  1263841557          1\n",
       "1597742   66825     2959     5.0  1107863583          1\n",
       "2184754   91080     1405     3.5  1167162642          1\n",
       "636472    25431     6807     5.0  1221011389          1"
      ]
     },
     "execution_count": 5,
     "metadata": {},
     "output_type": "execute_result"
    }
   ],
   "source": [
    "# новый целевой признак «факт просмотра фильма пользователем», равный 1 для всех\n",
    "df['view_fact'] = 1\n",
    "df.sample(7)"
   ]
  },
  {
   "cell_type": "code",
   "execution_count": 6,
   "metadata": {},
   "outputs": [
    {
     "name": "stdout",
     "output_type": "stream",
     "text": [
      "CPU times: total: 51.7 s\n",
      "Wall time: 54.5 s\n"
     ]
    }
   ],
   "source": [
    "%%time\n",
    "# масштабируем идентификаторы фильмов,\n",
    "# чтобы они начинались с 0 и заканчивались на n_movies-1\n",
    "movies_values = df['movieId'].unique()\n",
    "df['movieId'] = df['movieId'].apply(lambda f: np.where(movies_values == f)[0][0])"
   ]
  },
  {
   "cell_type": "code",
   "execution_count": 7,
   "metadata": {},
   "outputs": [],
   "source": [
    "# масштабируем идентификаторы пользователей (от 0 до n_movies-1)\n",
    "users_values = df['userId'].unique()\n",
    "df['userId'] = df['userId'].apply(lambda f: np.where(users_values == f)[0][0])"
   ]
  },
  {
   "cell_type": "code",
   "execution_count": 8,
   "metadata": {},
   "outputs": [
    {
     "data": {
      "text/html": [
       "<div>\n",
       "<style scoped>\n",
       "    .dataframe tbody tr th:only-of-type {\n",
       "        vertical-align: middle;\n",
       "    }\n",
       "\n",
       "    .dataframe tbody tr th {\n",
       "        vertical-align: top;\n",
       "    }\n",
       "\n",
       "    .dataframe thead th {\n",
       "        text-align: right;\n",
       "    }\n",
       "</style>\n",
       "<table border=\"1\" class=\"dataframe\">\n",
       "  <thead>\n",
       "    <tr style=\"text-align: right;\">\n",
       "      <th></th>\n",
       "      <th>userId</th>\n",
       "      <th>movieId</th>\n",
       "      <th>rating</th>\n",
       "      <th>timestamp</th>\n",
       "      <th>view_fact</th>\n",
       "    </tr>\n",
       "  </thead>\n",
       "  <tbody>\n",
       "    <tr>\n",
       "      <th>0</th>\n",
       "      <td>0</td>\n",
       "      <td>0</td>\n",
       "      <td>3.0</td>\n",
       "      <td>974918176</td>\n",
       "      <td>1</td>\n",
       "    </tr>\n",
       "    <tr>\n",
       "      <th>1</th>\n",
       "      <td>0</td>\n",
       "      <td>1</td>\n",
       "      <td>5.0</td>\n",
       "      <td>974836809</td>\n",
       "      <td>1</td>\n",
       "    </tr>\n",
       "    <tr>\n",
       "      <th>2</th>\n",
       "      <td>0</td>\n",
       "      <td>2</td>\n",
       "      <td>4.0</td>\n",
       "      <td>974837760</td>\n",
       "      <td>1</td>\n",
       "    </tr>\n",
       "    <tr>\n",
       "      <th>3</th>\n",
       "      <td>0</td>\n",
       "      <td>3</td>\n",
       "      <td>4.0</td>\n",
       "      <td>974837760</td>\n",
       "      <td>1</td>\n",
       "    </tr>\n",
       "    <tr>\n",
       "      <th>4</th>\n",
       "      <td>0</td>\n",
       "      <td>4</td>\n",
       "      <td>5.0</td>\n",
       "      <td>974840217</td>\n",
       "      <td>1</td>\n",
       "    </tr>\n",
       "  </tbody>\n",
       "</table>\n",
       "</div>"
      ],
      "text/plain": [
       "   userId  movieId  rating  timestamp  view_fact\n",
       "0       0        0     3.0  974918176          1\n",
       "1       0        1     5.0  974836809          1\n",
       "2       0        2     4.0  974837760          1\n",
       "3       0        3     4.0  974837760          1\n",
       "4       0        4     5.0  974840217          1"
      ]
     },
     "execution_count": 8,
     "metadata": {},
     "output_type": "execute_result"
    }
   ],
   "source": [
    "df.head()"
   ]
  },
  {
   "attachments": {},
   "cell_type": "markdown",
   "metadata": {},
   "source": [
    "2. Генерация пар с нулевыми значениями:"
   ]
  },
  {
   "cell_type": "code",
   "execution_count": 9,
   "metadata": {},
   "outputs": [],
   "source": [
    "users = df['userId'].unique()\n",
    "movies = df['movieId'].unique()"
   ]
  },
  {
   "cell_type": "code",
   "execution_count": 10,
   "metadata": {},
   "outputs": [],
   "source": [
    "# генерируем случайные пары пользователь*фильм\n",
    "random_pairs = []\n",
    "for i in range (6040099*2):\n",
    "    pair = (np.random.choice(users), np.random.choice(movies))\n",
    "    random_pairs.append(pair)"
   ]
  },
  {
   "cell_type": "code",
   "execution_count": 11,
   "metadata": {},
   "outputs": [
    {
     "data": {
      "text/html": [
       "<div>\n",
       "<style scoped>\n",
       "    .dataframe tbody tr th:only-of-type {\n",
       "        vertical-align: middle;\n",
       "    }\n",
       "\n",
       "    .dataframe tbody tr th {\n",
       "        vertical-align: top;\n",
       "    }\n",
       "\n",
       "    .dataframe thead th {\n",
       "        text-align: right;\n",
       "    }\n",
       "</style>\n",
       "<table border=\"1\" class=\"dataframe\">\n",
       "  <thead>\n",
       "    <tr style=\"text-align: right;\">\n",
       "      <th></th>\n",
       "      <th>userId</th>\n",
       "      <th>movieId</th>\n",
       "    </tr>\n",
       "  </thead>\n",
       "  <tbody>\n",
       "    <tr>\n",
       "      <th>0</th>\n",
       "      <td>2175</td>\n",
       "      <td>314</td>\n",
       "    </tr>\n",
       "    <tr>\n",
       "      <th>1</th>\n",
       "      <td>2118</td>\n",
       "      <td>79</td>\n",
       "    </tr>\n",
       "    <tr>\n",
       "      <th>2</th>\n",
       "      <td>7581</td>\n",
       "      <td>912</td>\n",
       "    </tr>\n",
       "    <tr>\n",
       "      <th>3</th>\n",
       "      <td>15069</td>\n",
       "      <td>731</td>\n",
       "    </tr>\n",
       "    <tr>\n",
       "      <th>4</th>\n",
       "      <td>8959</td>\n",
       "      <td>18</td>\n",
       "    </tr>\n",
       "  </tbody>\n",
       "</table>\n",
       "</div>"
      ],
      "text/plain": [
       "   userId  movieId\n",
       "0    2175      314\n",
       "1    2118       79\n",
       "2    7581      912\n",
       "3   15069      731\n",
       "4    8959       18"
      ]
     },
     "execution_count": 11,
     "metadata": {},
     "output_type": "execute_result"
    }
   ],
   "source": [
    "random_pairs = pd.DataFrame(random_pairs)\n",
    "random_pairs.columns=['userId', 'movieId']\n",
    "random_pairs.head()"
   ]
  },
  {
   "cell_type": "code",
   "execution_count": 12,
   "metadata": {},
   "outputs": [
    {
     "data": {
      "text/plain": [
       "(12080198, 2)"
      ]
     },
     "execution_count": 12,
     "metadata": {},
     "output_type": "execute_result"
    }
   ],
   "source": [
    "random_pairs.shape"
   ]
  },
  {
   "cell_type": "code",
   "execution_count": 13,
   "metadata": {},
   "outputs": [
    {
     "data": {
      "text/plain": [
       "3014748"
      ]
     },
     "execution_count": 13,
     "metadata": {},
     "output_type": "execute_result"
    }
   ],
   "source": [
    "random_pairs.duplicated().sum()"
   ]
  },
  {
   "cell_type": "code",
   "execution_count": 14,
   "metadata": {},
   "outputs": [],
   "source": [
    "random_pairs.drop_duplicates(inplace=True)"
   ]
  },
  {
   "cell_type": "code",
   "execution_count": 15,
   "metadata": {},
   "outputs": [
    {
     "data": {
      "text/plain": [
       "(9065450, 2)"
      ]
     },
     "execution_count": 15,
     "metadata": {},
     "output_type": "execute_result"
    }
   ],
   "source": [
    "random_pairs.shape"
   ]
  },
  {
   "cell_type": "code",
   "execution_count": 16,
   "metadata": {},
   "outputs": [],
   "source": [
    "pairs_1 = df[['userId', 'movieId']].copy()"
   ]
  },
  {
   "cell_type": "code",
   "execution_count": 17,
   "metadata": {},
   "outputs": [],
   "source": [
    "random_pairs = set(tuple(x) for x in random_pairs.values)\n",
    "pairs_1 = set(tuple(x) for x in pairs_1.values)"
   ]
  },
  {
   "cell_type": "code",
   "execution_count": 18,
   "metadata": {},
   "outputs": [],
   "source": [
    "random_pairs_0 = pd.DataFrame(random_pairs.difference(pairs_1))\n",
    "# возвращаем пары, кот. нет в датафрейме с view_fact=1"
   ]
  },
  {
   "cell_type": "code",
   "execution_count": 19,
   "metadata": {},
   "outputs": [
    {
     "data": {
      "text/plain": [
       "(6327402, 2)"
      ]
     },
     "execution_count": 19,
     "metadata": {},
     "output_type": "execute_result"
    }
   ],
   "source": [
    "random_pairs_0.shape"
   ]
  },
  {
   "cell_type": "code",
   "execution_count": 20,
   "metadata": {},
   "outputs": [
    {
     "data": {
      "text/html": [
       "<div>\n",
       "<style scoped>\n",
       "    .dataframe tbody tr th:only-of-type {\n",
       "        vertical-align: middle;\n",
       "    }\n",
       "\n",
       "    .dataframe tbody tr th {\n",
       "        vertical-align: top;\n",
       "    }\n",
       "\n",
       "    .dataframe thead th {\n",
       "        text-align: right;\n",
       "    }\n",
       "</style>\n",
       "<table border=\"1\" class=\"dataframe\">\n",
       "  <thead>\n",
       "    <tr style=\"text-align: right;\">\n",
       "      <th></th>\n",
       "      <th>userId</th>\n",
       "      <th>movieId</th>\n",
       "    </tr>\n",
       "  </thead>\n",
       "  <tbody>\n",
       "    <tr>\n",
       "      <th>1359668</th>\n",
       "      <td>19540</td>\n",
       "      <td>524</td>\n",
       "    </tr>\n",
       "    <tr>\n",
       "      <th>1205751</th>\n",
       "      <td>16546</td>\n",
       "      <td>802</td>\n",
       "    </tr>\n",
       "    <tr>\n",
       "      <th>5753317</th>\n",
       "      <td>7981</td>\n",
       "      <td>730</td>\n",
       "    </tr>\n",
       "    <tr>\n",
       "      <th>5888129</th>\n",
       "      <td>11522</td>\n",
       "      <td>140</td>\n",
       "    </tr>\n",
       "    <tr>\n",
       "      <th>609068</th>\n",
       "      <td>6276</td>\n",
       "      <td>30</td>\n",
       "    </tr>\n",
       "    <tr>\n",
       "      <th>...</th>\n",
       "      <td>...</td>\n",
       "      <td>...</td>\n",
       "    </tr>\n",
       "    <tr>\n",
       "      <th>4335453</th>\n",
       "      <td>18066</td>\n",
       "      <td>819</td>\n",
       "    </tr>\n",
       "    <tr>\n",
       "      <th>1355215</th>\n",
       "      <td>13302</td>\n",
       "      <td>111</td>\n",
       "    </tr>\n",
       "    <tr>\n",
       "      <th>1573299</th>\n",
       "      <td>3117</td>\n",
       "      <td>142</td>\n",
       "    </tr>\n",
       "    <tr>\n",
       "      <th>5685308</th>\n",
       "      <td>2470</td>\n",
       "      <td>625</td>\n",
       "    </tr>\n",
       "    <tr>\n",
       "      <th>811313</th>\n",
       "      <td>2445</td>\n",
       "      <td>401</td>\n",
       "    </tr>\n",
       "  </tbody>\n",
       "</table>\n",
       "<p>6040099 rows × 2 columns</p>\n",
       "</div>"
      ],
      "text/plain": [
       "         userId  movieId\n",
       "1359668   19540      524\n",
       "1205751   16546      802\n",
       "5753317    7981      730\n",
       "5888129   11522      140\n",
       "609068     6276       30\n",
       "...         ...      ...\n",
       "4335453   18066      819\n",
       "1355215   13302      111\n",
       "1573299    3117      142\n",
       "5685308    2470      625\n",
       "811313     2445      401\n",
       "\n",
       "[6040099 rows x 2 columns]"
      ]
     },
     "execution_count": 20,
     "metadata": {},
     "output_type": "execute_result"
    }
   ],
   "source": [
    "random_pairs_0 = random_pairs_0.sample(6040099)\n",
    "random_pairs_0.columns= ['userId', 'movieId']\n",
    "random_pairs_0 "
   ]
  },
  {
   "cell_type": "code",
   "execution_count": 21,
   "metadata": {},
   "outputs": [],
   "source": [
    "df = pd.concat([df, random_pairs_0], ignore_index=True)"
   ]
  },
  {
   "cell_type": "code",
   "execution_count": 22,
   "metadata": {},
   "outputs": [
    {
     "data": {
      "text/plain": [
       "0"
      ]
     },
     "execution_count": 22,
     "metadata": {},
     "output_type": "execute_result"
    }
   ],
   "source": [
    "df[['userId', 'movieId']].duplicated().sum()\n",
    "# дубликатов нет"
   ]
  },
  {
   "cell_type": "code",
   "execution_count": 23,
   "metadata": {},
   "outputs": [
    {
     "data": {
      "text/plain": [
       "(12080198, 5)"
      ]
     },
     "execution_count": 23,
     "metadata": {},
     "output_type": "execute_result"
    }
   ],
   "source": [
    "df.shape"
   ]
  },
  {
   "cell_type": "code",
   "execution_count": 24,
   "metadata": {},
   "outputs": [],
   "source": [
    "df = df.fillna(0) # заполняем пропуски и view_fact нулями "
   ]
  },
  {
   "cell_type": "code",
   "execution_count": 25,
   "metadata": {},
   "outputs": [
    {
     "data": {
      "text/html": [
       "<div>\n",
       "<style scoped>\n",
       "    .dataframe tbody tr th:only-of-type {\n",
       "        vertical-align: middle;\n",
       "    }\n",
       "\n",
       "    .dataframe tbody tr th {\n",
       "        vertical-align: top;\n",
       "    }\n",
       "\n",
       "    .dataframe thead th {\n",
       "        text-align: right;\n",
       "    }\n",
       "</style>\n",
       "<table border=\"1\" class=\"dataframe\">\n",
       "  <thead>\n",
       "    <tr style=\"text-align: right;\">\n",
       "      <th></th>\n",
       "      <th>userId</th>\n",
       "      <th>movieId</th>\n",
       "      <th>rating</th>\n",
       "      <th>timestamp</th>\n",
       "      <th>view_fact</th>\n",
       "    </tr>\n",
       "  </thead>\n",
       "  <tbody>\n",
       "    <tr>\n",
       "      <th>6864217</th>\n",
       "      <td>18704</td>\n",
       "      <td>423</td>\n",
       "      <td>0.0</td>\n",
       "      <td>0.000000e+00</td>\n",
       "      <td>0.0</td>\n",
       "    </tr>\n",
       "    <tr>\n",
       "      <th>9636997</th>\n",
       "      <td>7404</td>\n",
       "      <td>938</td>\n",
       "      <td>0.0</td>\n",
       "      <td>0.000000e+00</td>\n",
       "      <td>0.0</td>\n",
       "    </tr>\n",
       "    <tr>\n",
       "      <th>969157</th>\n",
       "      <td>2804</td>\n",
       "      <td>317</td>\n",
       "      <td>3.5</td>\n",
       "      <td>1.137602e+09</td>\n",
       "      <td>1.0</td>\n",
       "    </tr>\n",
       "    <tr>\n",
       "      <th>8504139</th>\n",
       "      <td>16156</td>\n",
       "      <td>49</td>\n",
       "      <td>0.0</td>\n",
       "      <td>0.000000e+00</td>\n",
       "      <td>0.0</td>\n",
       "    </tr>\n",
       "    <tr>\n",
       "      <th>431031</th>\n",
       "      <td>1253</td>\n",
       "      <td>529</td>\n",
       "      <td>0.5</td>\n",
       "      <td>1.365912e+09</td>\n",
       "      <td>1.0</td>\n",
       "    </tr>\n",
       "  </tbody>\n",
       "</table>\n",
       "</div>"
      ],
      "text/plain": [
       "         userId  movieId  rating     timestamp  view_fact\n",
       "6864217   18704      423     0.0  0.000000e+00        0.0\n",
       "9636997    7404      938     0.0  0.000000e+00        0.0\n",
       "969157     2804      317     3.5  1.137602e+09        1.0\n",
       "8504139   16156       49     0.0  0.000000e+00        0.0\n",
       "431031     1253      529     0.5  1.365912e+09        1.0"
      ]
     },
     "execution_count": 25,
     "metadata": {},
     "output_type": "execute_result"
    }
   ],
   "source": [
    "df.sample(5)"
   ]
  },
  {
   "attachments": {},
   "cell_type": "markdown",
   "metadata": {},
   "source": [
    "4. Pазделение данных на обучающую и тестовую части"
   ]
  },
  {
   "cell_type": "code",
   "execution_count": 26,
   "metadata": {},
   "outputs": [],
   "source": [
    "train_data, test_data = train_test_split(df, test_size=0.01, random_state=42)"
   ]
  },
  {
   "cell_type": "code",
   "execution_count": 27,
   "metadata": {},
   "outputs": [],
   "source": [
    "target_train = train_data['view_fact']\n",
    "features_train = train_data.drop(['view_fact'], axis=1)\n",
    "target_test = test_data['view_fact']\n",
    "features_test = test_data.drop(['view_fact'], axis=1)"
   ]
  },
  {
   "attachments": {},
   "cell_type": "markdown",
   "metadata": {},
   "source": [
    "5. Создание простой модели"
   ]
  },
  {
   "cell_type": "code",
   "execution_count": 28,
   "metadata": {},
   "outputs": [],
   "source": [
    "def dummy_model(features):\n",
    "    return [np.random.random() for i in range(len(features))]"
   ]
  },
  {
   "cell_type": "code",
   "execution_count": 29,
   "metadata": {},
   "outputs": [
    {
     "name": "stdout",
     "output_type": "stream",
     "text": [
      "AUC-ROC простой модели: 0.499\n"
     ]
    }
   ],
   "source": [
    "dummy_predictions = dummy_model(features_test)\n",
    "print(\"AUC-ROC простой модели: %.3f\"% roc_auc_score(target_test, dummy_predictions))"
   ]
  },
  {
   "attachments": {},
   "cell_type": "markdown",
   "metadata": {},
   "source": [
    "AUC-ROC случайной модели равна 0.5."
   ]
  },
  {
   "attachments": {},
   "cell_type": "markdown",
   "metadata": {},
   "source": [
    "6. Алгоритм коллаборативной фильтрации"
   ]
  },
  {
   "attachments": {},
   "cell_type": "markdown",
   "metadata": {},
   "source": [
    "### User-based"
   ]
  },
  {
   "cell_type": "code",
   "execution_count": 30,
   "metadata": {},
   "outputs": [
    {
     "data": {
      "text/plain": [
       "(20000, 1000)"
      ]
     },
     "execution_count": 30,
     "metadata": {},
     "output_type": "execute_result"
    }
   ],
   "source": [
    "n_users = train_data['userId'].nunique()\n",
    "n_movies = train_data['movieId'].nunique()\n",
    "n_users, n_movies"
   ]
  },
  {
   "cell_type": "code",
   "execution_count": 31,
   "metadata": {},
   "outputs": [],
   "source": [
    "# формируем матрицу user-item\n",
    "train_data_matrix = np.array(pd.pivot_table(train_data,\n",
    "               index = 'userId',\n",
    "               columns = 'movieId',\n",
    "               values = 'view_fact', fill_value=0))"
   ]
  },
  {
   "cell_type": "code",
   "execution_count": 32,
   "metadata": {},
   "outputs": [
    {
     "data": {
      "text/plain": [
       "(20000, 1000)"
      ]
     },
     "execution_count": 32,
     "metadata": {},
     "output_type": "execute_result"
    }
   ],
   "source": [
    "train_data_matrix.shape"
   ]
  },
  {
   "cell_type": "code",
   "execution_count": 33,
   "metadata": {},
   "outputs": [
    {
     "data": {
      "text/plain": [
       "array([[1, 1, 1, ..., 0, 0, 0],\n",
       "       [1, 1, 1, ..., 0, 0, 0],\n",
       "       [1, 1, 1, ..., 0, 0, 0],\n",
       "       ...,\n",
       "       [0, 0, 0, ..., 0, 0, 0],\n",
       "       [0, 0, 0, ..., 0, 1, 0],\n",
       "       [0, 0, 0, ..., 0, 0, 0]], dtype=int64)"
      ]
     },
     "execution_count": 33,
     "metadata": {},
     "output_type": "execute_result"
    }
   ],
   "source": [
    "train_data_matrix"
   ]
  },
  {
   "cell_type": "code",
   "execution_count": 34,
   "metadata": {},
   "outputs": [],
   "source": [
    "# считаем попарное косинусное расстояние для пользователей (строк матрицы)\n",
    "user_similarity = cosine_distances(train_data_matrix)"
   ]
  },
  {
   "cell_type": "code",
   "execution_count": 35,
   "metadata": {},
   "outputs": [],
   "source": [
    "# считаем попарное косинусное расстояние для фильмов (столбцов матрицы)\n",
    "movie_similarity = cosine_distances(train_data_matrix.T)"
   ]
  },
  {
   "cell_type": "code",
   "execution_count": 36,
   "metadata": {},
   "outputs": [
    {
     "data": {
      "text/plain": [
       "array([[0.        , 0.46999486, 0.43312502, ..., 0.86898606, 0.99594839,\n",
       "        0.9428738 ],\n",
       "       [0.46999486, 0.        , 0.39631106, ..., 0.74610396, 0.77258523,\n",
       "        0.89907003],\n",
       "       [0.43312502, 0.39631106, 0.        , ..., 0.80626137, 0.75734966,\n",
       "        0.88891936],\n",
       "       ...,\n",
       "       [0.86898606, 0.74610396, 0.80626137, ..., 0.        , 0.67107049,\n",
       "        0.7451764 ],\n",
       "       [0.99594839, 0.77258523, 0.75734966, ..., 0.67107049, 0.        ,\n",
       "        0.78722869],\n",
       "       [0.9428738 , 0.89907003, 0.88891936, ..., 0.7451764 , 0.78722869,\n",
       "        0.        ]])"
      ]
     },
     "execution_count": 36,
     "metadata": {},
     "output_type": "execute_result"
    }
   ],
   "source": [
    "user_similarity"
   ]
  },
  {
   "cell_type": "code",
   "execution_count": 37,
   "metadata": {},
   "outputs": [
    {
     "data": {
      "text/plain": [
       "array([[0.        , 0.39217953, 0.38115528, ..., 0.75528843, 0.59046783,\n",
       "        0.7806608 ],\n",
       "       [0.39217953, 0.        , 0.21273945, ..., 0.66536621, 0.53116134,\n",
       "        0.68171548],\n",
       "       [0.38115528, 0.21273945, 0.        , ..., 0.67375632, 0.48847154,\n",
       "        0.72370895],\n",
       "       ...,\n",
       "       [0.75528843, 0.66536621, 0.67375632, ..., 0.        , 0.77905991,\n",
       "        0.64830551],\n",
       "       [0.59046783, 0.53116134, 0.48847154, ..., 0.77905991, 0.        ,\n",
       "        0.84429621],\n",
       "       [0.7806608 , 0.68171548, 0.72370895, ..., 0.64830551, 0.84429621,\n",
       "        0.        ]])"
      ]
     },
     "execution_count": 37,
     "metadata": {},
     "output_type": "execute_result"
    }
   ],
   "source": [
    "movie_similarity"
   ]
  },
  {
   "cell_type": "code",
   "execution_count": 38,
   "metadata": {},
   "outputs": [
    {
     "data": {
      "text/plain": [
       "((20000, 20000), (1000, 1000))"
      ]
     },
     "execution_count": 38,
     "metadata": {},
     "output_type": "execute_result"
    }
   ],
   "source": [
    "user_similarity.shape, movie_similarity.shape"
   ]
  },
  {
   "cell_type": "code",
   "execution_count": 39,
   "metadata": {},
   "outputs": [],
   "source": [
    "# Для каждого пользователя находим топ 10 ближайших соседей, исключая себя самого\n",
    "top=10\n",
    "top_similar_users = []\n",
    "for i in range(n_users):\n",
    "    neighbors = (user_similarity[i]).argsort()[1:top + 1]\n",
    "    top_similar_users.append(\n",
    "        train_data_matrix[neighbors]\n",
    "    )\n",
    "top_similar_users = np.array(top_similar_users)"
   ]
  },
  {
   "cell_type": "code",
   "execution_count": 40,
   "metadata": {},
   "outputs": [
    {
     "data": {
      "text/plain": [
       "(20000, 10, 1000)"
      ]
     },
     "execution_count": 40,
     "metadata": {},
     "output_type": "execute_result"
    }
   ],
   "source": [
    "top_similar_users.shape"
   ]
  },
  {
   "cell_type": "code",
   "execution_count": 41,
   "metadata": {},
   "outputs": [],
   "source": [
    "predicted_view_fact_user_based = top_similar_users.mean(1) \n",
    "#создаем матрицу предсказаний используя среднее знач просмотров топ-10"
   ]
  },
  {
   "cell_type": "code",
   "execution_count": 42,
   "metadata": {},
   "outputs": [
    {
     "data": {
      "text/plain": [
       "(20000, 1000)"
      ]
     },
     "execution_count": 42,
     "metadata": {},
     "output_type": "execute_result"
    }
   ],
   "source": [
    "predicted_view_fact_user_based.shape"
   ]
  },
  {
   "cell_type": "code",
   "execution_count": 43,
   "metadata": {},
   "outputs": [],
   "source": [
    "test_data['predict_user_based'] = test_data.apply(\n",
    "    lambda f: (predicted_view_fact_user_based[int(f['userId']),\n",
    "     int(f['movieId'])]), axis = 1)"
   ]
  },
  {
   "cell_type": "code",
   "execution_count": 44,
   "metadata": {},
   "outputs": [
    {
     "data": {
      "text/html": [
       "<div>\n",
       "<style scoped>\n",
       "    .dataframe tbody tr th:only-of-type {\n",
       "        vertical-align: middle;\n",
       "    }\n",
       "\n",
       "    .dataframe tbody tr th {\n",
       "        vertical-align: top;\n",
       "    }\n",
       "\n",
       "    .dataframe thead th {\n",
       "        text-align: right;\n",
       "    }\n",
       "</style>\n",
       "<table border=\"1\" class=\"dataframe\">\n",
       "  <thead>\n",
       "    <tr style=\"text-align: right;\">\n",
       "      <th></th>\n",
       "      <th>userId</th>\n",
       "      <th>movieId</th>\n",
       "      <th>rating</th>\n",
       "      <th>timestamp</th>\n",
       "      <th>view_fact</th>\n",
       "      <th>predict_user_based</th>\n",
       "    </tr>\n",
       "  </thead>\n",
       "  <tbody>\n",
       "    <tr>\n",
       "      <th>3120342</th>\n",
       "      <td>8984</td>\n",
       "      <td>62</td>\n",
       "      <td>4.5</td>\n",
       "      <td>1.075840e+09</td>\n",
       "      <td>1.0</td>\n",
       "      <td>1.0</td>\n",
       "    </tr>\n",
       "    <tr>\n",
       "      <th>6066966</th>\n",
       "      <td>14190</td>\n",
       "      <td>177</td>\n",
       "      <td>0.0</td>\n",
       "      <td>0.000000e+00</td>\n",
       "      <td>0.0</td>\n",
       "      <td>0.5</td>\n",
       "    </tr>\n",
       "    <tr>\n",
       "      <th>6186099</th>\n",
       "      <td>9716</td>\n",
       "      <td>252</td>\n",
       "      <td>0.0</td>\n",
       "      <td>0.000000e+00</td>\n",
       "      <td>0.0</td>\n",
       "      <td>1.0</td>\n",
       "    </tr>\n",
       "    <tr>\n",
       "      <th>1619138</th>\n",
       "      <td>4675</td>\n",
       "      <td>759</td>\n",
       "      <td>3.5</td>\n",
       "      <td>1.234074e+09</td>\n",
       "      <td>1.0</td>\n",
       "      <td>0.6</td>\n",
       "    </tr>\n",
       "    <tr>\n",
       "      <th>5162803</th>\n",
       "      <td>16085</td>\n",
       "      <td>325</td>\n",
       "      <td>3.0</td>\n",
       "      <td>9.847944e+08</td>\n",
       "      <td>1.0</td>\n",
       "      <td>1.0</td>\n",
       "    </tr>\n",
       "  </tbody>\n",
       "</table>\n",
       "</div>"
      ],
      "text/plain": [
       "         userId  movieId  rating     timestamp  view_fact  predict_user_based\n",
       "3120342    8984       62     4.5  1.075840e+09        1.0                 1.0\n",
       "6066966   14190      177     0.0  0.000000e+00        0.0                 0.5\n",
       "6186099    9716      252     0.0  0.000000e+00        0.0                 1.0\n",
       "1619138    4675      759     3.5  1.234074e+09        1.0                 0.6\n",
       "5162803   16085      325     3.0  9.847944e+08        1.0                 1.0"
      ]
     },
     "execution_count": 44,
     "metadata": {},
     "output_type": "execute_result"
    }
   ],
   "source": [
    "test_data.head()"
   ]
  },
  {
   "cell_type": "code",
   "execution_count": 45,
   "metadata": {},
   "outputs": [
    {
     "name": "stdout",
     "output_type": "stream",
     "text": [
      "AUC-ROC user-based_топ10: 0.776\n"
     ]
    }
   ],
   "source": [
    "prediction = np.where(test_data['predict_user_based'] >= 0.5, 1, 0)\n",
    "print(\"AUC-ROC user-based_топ10: %.3f\"% roc_auc_score(test_data['view_fact'], \n",
    "prediction))"
   ]
  },
  {
   "cell_type": "code",
   "execution_count": 46,
   "metadata": {},
   "outputs": [
    {
     "name": "stdout",
     "output_type": "stream",
     "text": [
      "AUC-ROC user-based_топ5: 0.773\n"
     ]
    }
   ],
   "source": [
    "top=5\n",
    "top_similar_users_5 = []\n",
    "for i in range(n_users):\n",
    "    neighbors = (user_similarity[i]).argsort()[1:top + 1]\n",
    "    top_similar_users_5.append(\n",
    "        train_data_matrix[neighbors]\n",
    "    )\n",
    "top_similar_users_5 = np.array(top_similar_users_5)\n",
    "\n",
    "\n",
    "predicted_view_fact_user_based_5 = top_similar_users_5.mean(1) \n",
    "\n",
    "test_data['predict_user_based_5'] = test_data.apply(\n",
    "    lambda f: (predicted_view_fact_user_based_5[int(f['userId']),\n",
    "     int(f['movieId'])]), axis = 1)\n",
    "\n",
    "\n",
    "prediction_2 = np.where(test_data['predict_user_based_5'] >= 0.5, 1, 0)\n",
    "print(\"AUC-ROC user-based_топ5: %.3f\"% roc_auc_score(test_data['view_fact'], \n",
    "prediction_2))"
   ]
  },
  {
   "cell_type": "code",
   "execution_count": 47,
   "metadata": {},
   "outputs": [
    {
     "data": {
      "text/html": [
       "<div>\n",
       "<style scoped>\n",
       "    .dataframe tbody tr th:only-of-type {\n",
       "        vertical-align: middle;\n",
       "    }\n",
       "\n",
       "    .dataframe tbody tr th {\n",
       "        vertical-align: top;\n",
       "    }\n",
       "\n",
       "    .dataframe thead th {\n",
       "        text-align: right;\n",
       "    }\n",
       "</style>\n",
       "<table border=\"1\" class=\"dataframe\">\n",
       "  <thead>\n",
       "    <tr style=\"text-align: right;\">\n",
       "      <th></th>\n",
       "      <th>userId</th>\n",
       "      <th>movieId</th>\n",
       "      <th>rating</th>\n",
       "      <th>timestamp</th>\n",
       "      <th>view_fact</th>\n",
       "      <th>predict_user_based</th>\n",
       "      <th>predict_user_based_5</th>\n",
       "    </tr>\n",
       "  </thead>\n",
       "  <tbody>\n",
       "    <tr>\n",
       "      <th>3120342</th>\n",
       "      <td>8984</td>\n",
       "      <td>62</td>\n",
       "      <td>4.5</td>\n",
       "      <td>1.075840e+09</td>\n",
       "      <td>1.0</td>\n",
       "      <td>1.0</td>\n",
       "      <td>1.0</td>\n",
       "    </tr>\n",
       "    <tr>\n",
       "      <th>6066966</th>\n",
       "      <td>14190</td>\n",
       "      <td>177</td>\n",
       "      <td>0.0</td>\n",
       "      <td>0.000000e+00</td>\n",
       "      <td>0.0</td>\n",
       "      <td>0.5</td>\n",
       "      <td>0.6</td>\n",
       "    </tr>\n",
       "    <tr>\n",
       "      <th>6186099</th>\n",
       "      <td>9716</td>\n",
       "      <td>252</td>\n",
       "      <td>0.0</td>\n",
       "      <td>0.000000e+00</td>\n",
       "      <td>0.0</td>\n",
       "      <td>1.0</td>\n",
       "      <td>1.0</td>\n",
       "    </tr>\n",
       "    <tr>\n",
       "      <th>1619138</th>\n",
       "      <td>4675</td>\n",
       "      <td>759</td>\n",
       "      <td>3.5</td>\n",
       "      <td>1.234074e+09</td>\n",
       "      <td>1.0</td>\n",
       "      <td>0.6</td>\n",
       "      <td>0.8</td>\n",
       "    </tr>\n",
       "    <tr>\n",
       "      <th>5162803</th>\n",
       "      <td>16085</td>\n",
       "      <td>325</td>\n",
       "      <td>3.0</td>\n",
       "      <td>9.847944e+08</td>\n",
       "      <td>1.0</td>\n",
       "      <td>1.0</td>\n",
       "      <td>1.0</td>\n",
       "    </tr>\n",
       "  </tbody>\n",
       "</table>\n",
       "</div>"
      ],
      "text/plain": [
       "         userId  movieId  rating     timestamp  view_fact  predict_user_based  \\\n",
       "3120342    8984       62     4.5  1.075840e+09        1.0                 1.0   \n",
       "6066966   14190      177     0.0  0.000000e+00        0.0                 0.5   \n",
       "6186099    9716      252     0.0  0.000000e+00        0.0                 1.0   \n",
       "1619138    4675      759     3.5  1.234074e+09        1.0                 0.6   \n",
       "5162803   16085      325     3.0  9.847944e+08        1.0                 1.0   \n",
       "\n",
       "         predict_user_based_5  \n",
       "3120342                   1.0  \n",
       "6066966                   0.6  \n",
       "6186099                   1.0  \n",
       "1619138                   0.8  \n",
       "5162803                   1.0  "
      ]
     },
     "execution_count": 47,
     "metadata": {},
     "output_type": "execute_result"
    }
   ],
   "source": [
    "test_data.head()"
   ]
  },
  {
   "cell_type": "code",
   "execution_count": 49,
   "metadata": {},
   "outputs": [
    {
     "name": "stdout",
     "output_type": "stream",
     "text": [
      "AUC-ROC user-based_топ25: 0.781\n"
     ]
    }
   ],
   "source": [
    "top=25\n",
    "top_similar_users_25 = []\n",
    "for i in range(n_users):\n",
    "    neighbors = (user_similarity[i]).argsort()[1:top + 1]\n",
    "    top_similar_users_25.append(\n",
    "        train_data_matrix[neighbors]\n",
    "    )\n",
    "top_similar_users_25 = np.array(top_similar_users_25)\n",
    "\n",
    "\n",
    "predicted_view_fact_user_based_25 = top_similar_users_25.mean(1) \n",
    "\n",
    "test_data['predict_user_based_25'] = test_data.apply(\n",
    "    lambda f: (predicted_view_fact_user_based_25[int(f['userId']), \n",
    "    int(f['movieId'])]), axis = 1)\n",
    "\n",
    "\n",
    "prediction_3 = np.where(test_data['predict_user_based_25'] >= 0.5, 1, 0)\n",
    "print(\"AUC-ROC user-based_топ25: %.3f\"% roc_auc_score(test_data['view_fact'], \n",
    "prediction_3))"
   ]
  },
  {
   "attachments": {},
   "cell_type": "markdown",
   "metadata": {},
   "source": [
    "Качество user_based улучшается при увеличении количества похожих пользователей"
   ]
  },
  {
   "attachments": {},
   "cell_type": "markdown",
   "metadata": {},
   "source": [
    "### item-based"
   ]
  },
  {
   "attachments": {},
   "cell_type": "markdown",
   "metadata": {},
   "source": [
    "Для каждого фильма находим топ 10 ближайших соседей, исключая себя "
   ]
  },
  {
   "cell_type": "code",
   "execution_count": 50,
   "metadata": {},
   "outputs": [],
   "source": [
    "top=10\n",
    "top_similar_movie = []\n",
    "for i in range(n_movies):\n",
    "    neighbors = (movie_similarity[i]).argsort()[1:top + 1]\n",
    "    top_similar_movie.append(\n",
    "        train_data_matrix.T[neighbors]\n",
    "    )\n",
    "    \n",
    "top_similar_movie = np.array(top_similar_movie)"
   ]
  },
  {
   "cell_type": "code",
   "execution_count": 51,
   "metadata": {},
   "outputs": [
    {
     "data": {
      "text/plain": [
       "(1000, 10, 20000)"
      ]
     },
     "execution_count": 51,
     "metadata": {},
     "output_type": "execute_result"
    }
   ],
   "source": [
    "top_similar_movie.shape"
   ]
  },
  {
   "cell_type": "code",
   "execution_count": 52,
   "metadata": {},
   "outputs": [],
   "source": [
    "predicted_view_fact_movie_based = top_similar_movie.mean(1).T"
   ]
  },
  {
   "cell_type": "code",
   "execution_count": 53,
   "metadata": {},
   "outputs": [
    {
     "data": {
      "text/plain": [
       "(20000, 1000)"
      ]
     },
     "execution_count": 53,
     "metadata": {},
     "output_type": "execute_result"
    }
   ],
   "source": [
    "predicted_view_fact_movie_based.shape"
   ]
  },
  {
   "cell_type": "code",
   "execution_count": 54,
   "metadata": {},
   "outputs": [],
   "source": [
    "test_data['predict_item_based'] = test_data.apply(\n",
    "    lambda f: (predicted_view_fact_movie_based[int(f['userId']), \n",
    "    int(f['movieId'])]), axis = 1)"
   ]
  },
  {
   "cell_type": "code",
   "execution_count": 55,
   "metadata": {},
   "outputs": [
    {
     "data": {
      "text/html": [
       "<div>\n",
       "<style scoped>\n",
       "    .dataframe tbody tr th:only-of-type {\n",
       "        vertical-align: middle;\n",
       "    }\n",
       "\n",
       "    .dataframe tbody tr th {\n",
       "        vertical-align: top;\n",
       "    }\n",
       "\n",
       "    .dataframe thead th {\n",
       "        text-align: right;\n",
       "    }\n",
       "</style>\n",
       "<table border=\"1\" class=\"dataframe\">\n",
       "  <thead>\n",
       "    <tr style=\"text-align: right;\">\n",
       "      <th></th>\n",
       "      <th>userId</th>\n",
       "      <th>movieId</th>\n",
       "      <th>rating</th>\n",
       "      <th>timestamp</th>\n",
       "      <th>view_fact</th>\n",
       "      <th>predict_user_based</th>\n",
       "      <th>predict_user_based_5</th>\n",
       "      <th>predict_user_based_20</th>\n",
       "      <th>predict_user_based_25</th>\n",
       "      <th>predict_item_based</th>\n",
       "    </tr>\n",
       "  </thead>\n",
       "  <tbody>\n",
       "    <tr>\n",
       "      <th>3120342</th>\n",
       "      <td>8984</td>\n",
       "      <td>62</td>\n",
       "      <td>4.5</td>\n",
       "      <td>1.075840e+09</td>\n",
       "      <td>1.0</td>\n",
       "      <td>1.0</td>\n",
       "      <td>1.0</td>\n",
       "      <td>1.0</td>\n",
       "      <td>0.96</td>\n",
       "      <td>1.0</td>\n",
       "    </tr>\n",
       "    <tr>\n",
       "      <th>6066966</th>\n",
       "      <td>14190</td>\n",
       "      <td>177</td>\n",
       "      <td>0.0</td>\n",
       "      <td>0.000000e+00</td>\n",
       "      <td>0.0</td>\n",
       "      <td>0.5</td>\n",
       "      <td>0.6</td>\n",
       "      <td>0.6</td>\n",
       "      <td>0.64</td>\n",
       "      <td>0.5</td>\n",
       "    </tr>\n",
       "    <tr>\n",
       "      <th>6186099</th>\n",
       "      <td>9716</td>\n",
       "      <td>252</td>\n",
       "      <td>0.0</td>\n",
       "      <td>0.000000e+00</td>\n",
       "      <td>0.0</td>\n",
       "      <td>1.0</td>\n",
       "      <td>1.0</td>\n",
       "      <td>1.0</td>\n",
       "      <td>1.00</td>\n",
       "      <td>0.8</td>\n",
       "    </tr>\n",
       "    <tr>\n",
       "      <th>1619138</th>\n",
       "      <td>4675</td>\n",
       "      <td>759</td>\n",
       "      <td>3.5</td>\n",
       "      <td>1.234074e+09</td>\n",
       "      <td>1.0</td>\n",
       "      <td>0.6</td>\n",
       "      <td>0.8</td>\n",
       "      <td>0.7</td>\n",
       "      <td>0.64</td>\n",
       "      <td>0.9</td>\n",
       "    </tr>\n",
       "    <tr>\n",
       "      <th>5162803</th>\n",
       "      <td>16085</td>\n",
       "      <td>325</td>\n",
       "      <td>3.0</td>\n",
       "      <td>9.847944e+08</td>\n",
       "      <td>1.0</td>\n",
       "      <td>1.0</td>\n",
       "      <td>1.0</td>\n",
       "      <td>0.9</td>\n",
       "      <td>0.88</td>\n",
       "      <td>0.8</td>\n",
       "    </tr>\n",
       "  </tbody>\n",
       "</table>\n",
       "</div>"
      ],
      "text/plain": [
       "         userId  movieId  rating     timestamp  view_fact  predict_user_based  \\\n",
       "3120342    8984       62     4.5  1.075840e+09        1.0                 1.0   \n",
       "6066966   14190      177     0.0  0.000000e+00        0.0                 0.5   \n",
       "6186099    9716      252     0.0  0.000000e+00        0.0                 1.0   \n",
       "1619138    4675      759     3.5  1.234074e+09        1.0                 0.6   \n",
       "5162803   16085      325     3.0  9.847944e+08        1.0                 1.0   \n",
       "\n",
       "         predict_user_based_5  predict_user_based_20  predict_user_based_25  \\\n",
       "3120342                   1.0                    1.0                   0.96   \n",
       "6066966                   0.6                    0.6                   0.64   \n",
       "6186099                   1.0                    1.0                   1.00   \n",
       "1619138                   0.8                    0.7                   0.64   \n",
       "5162803                   1.0                    0.9                   0.88   \n",
       "\n",
       "         predict_item_based  \n",
       "3120342                 1.0  \n",
       "6066966                 0.5  \n",
       "6186099                 0.8  \n",
       "1619138                 0.9  \n",
       "5162803                 0.8  "
      ]
     },
     "execution_count": 55,
     "metadata": {},
     "output_type": "execute_result"
    }
   ],
   "source": [
    "test_data.head()"
   ]
  },
  {
   "cell_type": "code",
   "execution_count": 56,
   "metadata": {},
   "outputs": [
    {
     "name": "stdout",
     "output_type": "stream",
     "text": [
      "AUC-ROC item-based_топ10: 0.746\n"
     ]
    }
   ],
   "source": [
    "prediction = np.where(test_data['predict_item_based'] >= 0.5, 1, 0)\n",
    "print(\"AUC-ROC item-based_топ10: %.3f\"% roc_auc_score(test_data['view_fact'], \n",
    "        prediction))"
   ]
  },
  {
   "cell_type": "code",
   "execution_count": null,
   "metadata": {},
   "outputs": [],
   "source": [
    "top=25\n",
    "top_similar_movie_25 = []\n",
    "for i in range(n_movies):\n",
    "    neighbors = (movie_similarity[i]).argsort()[1:top + 1]\n",
    "    top_similar_movie_25.append(\n",
    "        train_data_matrix.T[neighbors]\n",
    "    )\n",
    "    \n",
    "top_similar_movie_25 = np.array(top_similar_movie_25)\n",
    "\n",
    "predicted_view_fact_movie_based_25 = top_similar_movie_25.mean(1).T\n",
    "\n",
    "test_data['predict_item_based_25'] = test_data.apply(\n",
    "    lambda f: (predicted_view_fact_movie_based_25[int(f['userId']), \n",
    "    int(f['movieId'])]), axis = 1)"
   ]
  },
  {
   "cell_type": "code",
   "execution_count": null,
   "metadata": {},
   "outputs": [
    {
     "name": "stdout",
     "output_type": "stream",
     "text": [
      "AUC-ROC item-based_топ25: 0.745\n"
     ]
    }
   ],
   "source": [
    "prediction_2i = np.where(test_data['predict_item_based_25'] >= 0.5, 1, 0)\n",
    "print(\"AUC-ROC item-based_топ25: %.3f\"% roc_auc_score(test_data['view_fact'], \n",
    "prediction_2i))"
   ]
  },
  {
   "attachments": {},
   "cell_type": "markdown",
   "metadata": {},
   "source": [
    "На item-based увеличение количества фильмов не влияет, тк по сравнению с пользователями не такая большая выборка"
   ]
  },
  {
   "attachments": {},
   "cell_type": "markdown",
   "metadata": {},
   "source": [
    "### Матричная факторизация"
   ]
  },
  {
   "cell_type": "code",
   "execution_count": null,
   "metadata": {},
   "outputs": [
    {
     "data": {
      "text/plain": [
       "(20000, 1000)"
      ]
     },
     "execution_count": 79,
     "metadata": {},
     "output_type": "execute_result"
    }
   ],
   "source": [
    "train_data_matrix.shape"
   ]
  },
  {
   "cell_type": "code",
   "execution_count": null,
   "metadata": {},
   "outputs": [],
   "source": [
    "# SVD\n",
    "train_data_matrix = train_data_matrix.astype(float)\n",
    "u, s, vh = svds(train_data_matrix, k=20)\n",
    "s_diag_matrix = np.diag(s)\n",
    "\n",
    "users = np.dot(u, s_diag_matrix)\n",
    "items = vh.T"
   ]
  },
  {
   "cell_type": "code",
   "execution_count": null,
   "metadata": {},
   "outputs": [
    {
     "data": {
      "text/plain": [
       "((20, 20), (20000, 20), (1000, 20))"
      ]
     },
     "execution_count": 85,
     "metadata": {},
     "output_type": "execute_result"
    }
   ],
   "source": [
    "np.diag(s).shape, users.shape, items.shape"
   ]
  },
  {
   "cell_type": "code",
   "execution_count": null,
   "metadata": {},
   "outputs": [],
   "source": [
    "test_data['svd_predictions'] = test_data.apply(\n",
    "    lambda f: (np.dot(users[int(f['userId'])], items[int(f['movieId'])])), \n",
    "    axis = 1)"
   ]
  },
  {
   "cell_type": "code",
   "execution_count": null,
   "metadata": {},
   "outputs": [
    {
     "name": "stdout",
     "output_type": "stream",
     "text": [
      "AUC-ROC matrix factorization_20: 0.762\n"
     ]
    }
   ],
   "source": [
    "prediction = np.where(test_data['svd_predictions'] >= 0.5, 1, 0)\n",
    "print(\"AUC-ROC matrix factorization_20: %.3f\"% roc_auc_score(\n",
    "    test_data['view_fact'], prediction))"
   ]
  },
  {
   "cell_type": "code",
   "execution_count": null,
   "metadata": {},
   "outputs": [
    {
     "name": "stdout",
     "output_type": "stream",
     "text": [
      "AUC-ROC matrix factorization_40: 0.772\n"
     ]
    }
   ],
   "source": [
    "train_data_matrix = train_data_matrix.astype(float)\n",
    "u, s, vh = svds(train_data_matrix, k=40)\n",
    "s_diag_matrix = np.diag(s)\n",
    "\n",
    "users = np.dot(u, s_diag_matrix)\n",
    "items = vh.T\n",
    "\n",
    "\n",
    "test_data['svd_predictions'] = test_data.apply(\n",
    "    lambda f: (np.dot(users[int(f['userId'])], items[int(f['movieId'])])),\n",
    "    axis = 1)\n",
    "\n",
    "prediction = np.where(test_data['svd_predictions'] >= 0.5, 1, 0)\n",
    "print(\"AUC-ROC matrix factorization_40: %.3f\"% roc_auc_score(\n",
    "    test_data['view_fact'], prediction))"
   ]
  },
  {
   "attachments": {},
   "cell_type": "markdown",
   "metadata": {},
   "source": [
    "При увеличении кол. элементов в матрице - улучшается качество (до определенного момента, при разложении выше 60 - снова падает)"
   ]
  },
  {
   "attachments": {},
   "cell_type": "markdown",
   "metadata": {},
   "source": [
    "Наиболее эффективной оказалась user_based рекомендация при выделении топ 25 пользователей - AUC-ROC = 0.781  \n",
    "На втором месте матричное разложение с AUC-ROC = 0.772  \n",
    "AUC-ROC item-based = 0.746  \n",
    "AUC-ROC простой модели = 0.5"
   ]
  }
 ],
 "metadata": {
  "kernelspec": {
   "display_name": "Python 3",
   "language": "python",
   "name": "python3"
  },
  "language_info": {
   "codemirror_mode": {
    "name": "ipython",
    "version": 3
   },
   "file_extension": ".py",
   "mimetype": "text/x-python",
   "name": "python",
   "nbconvert_exporter": "python",
   "pygments_lexer": "ipython3",
   "version": "3.11.4"
  },
  "orig_nbformat": 4
 },
 "nbformat": 4,
 "nbformat_minor": 2
}
